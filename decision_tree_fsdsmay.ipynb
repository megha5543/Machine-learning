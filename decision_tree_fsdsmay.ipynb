{
  "cells": [
    {
      "cell_type": "markdown",
      "metadata": {
        "id": "view-in-github",
        "colab_type": "text"
      },
      "source": [
        "<a href=\"https://colab.research.google.com/github/megha5543/Machine-learning/blob/main/decision_tree_fsdsmay.ipynb\" target=\"_parent\"><img src=\"https://colab.research.google.com/assets/colab-badge.svg\" alt=\"Open In Colab\"/></a>"
      ]
    },
    {
      "cell_type": "code",
      "execution_count": null,
      "id": "1818e34a",
      "metadata": {
        "id": "1818e34a"
      },
      "outputs": [],
      "source": [
        "import pandas as pd\n",
        "import numpy as np\n",
        "df=pd.read_csv(\"https://raw.githubusercontent.com/shrikant-temburwar/Wine-Quality-Dataset/master/winequality-red.csv\",sep = ';')"
      ]
    },
    {
      "cell_type": "code",
      "execution_count": null,
      "id": "595798a1",
      "metadata": {
        "id": "595798a1"
      },
      "outputs": [],
      "source": [
        "df.head()"
      ]
    },
    {
      "cell_type": "code",
      "execution_count": null,
      "id": "d6db1cf0",
      "metadata": {
        "id": "d6db1cf0"
      },
      "outputs": [],
      "source": [
        "df['quality'].unique()"
      ]
    },
    {
      "cell_type": "code",
      "execution_count": null,
      "id": "f0c32085",
      "metadata": {
        "id": "f0c32085"
      },
      "outputs": [],
      "source": [
        "len(df['quality'].unique())"
      ]
    },
    {
      "cell_type": "code",
      "execution_count": null,
      "id": "4e309a71",
      "metadata": {
        "id": "4e309a71"
      },
      "outputs": [],
      "source": [
        "df['quality'].nunique()"
      ]
    },
    {
      "cell_type": "code",
      "execution_count": null,
      "id": "dc8ba281",
      "metadata": {
        "id": "dc8ba281"
      },
      "outputs": [],
      "source": [
        "df['quality'].value_counts()"
      ]
    },
    {
      "cell_type": "code",
      "execution_count": null,
      "id": "f1ec3758",
      "metadata": {
        "id": "f1ec3758"
      },
      "outputs": [],
      "source": [
        "df.describe().T"
      ]
    },
    {
      "cell_type": "code",
      "execution_count": null,
      "id": "e7760433",
      "metadata": {
        "id": "e7760433"
      },
      "outputs": [],
      "source": [
        "df.duplicated().sum()\n"
      ]
    },
    {
      "cell_type": "code",
      "execution_count": null,
      "id": "9de73287",
      "metadata": {
        "id": "9de73287"
      },
      "outputs": [],
      "source": [
        "df=df.drop_duplicates()"
      ]
    },
    {
      "cell_type": "code",
      "execution_count": null,
      "id": "27118ac9",
      "metadata": {
        "id": "27118ac9"
      },
      "outputs": [],
      "source": [
        "df.duplicated().sum()"
      ]
    },
    {
      "cell_type": "code",
      "execution_count": null,
      "id": "e109f0bd",
      "metadata": {
        "id": "e109f0bd"
      },
      "outputs": [],
      "source": [
        "demo_df=pd.DataFrame([1,2,3,3,23,2,1,2,123,333])"
      ]
    },
    {
      "cell_type": "code",
      "execution_count": null,
      "id": "b32e8b80",
      "metadata": {
        "id": "b32e8b80"
      },
      "outputs": [],
      "source": [
        "demo_df"
      ]
    },
    {
      "cell_type": "code",
      "execution_count": null,
      "id": "6ccaa07c",
      "metadata": {
        "id": "6ccaa07c"
      },
      "outputs": [],
      "source": [
        "demo_df.duplicated().sum()"
      ]
    },
    {
      "cell_type": "code",
      "execution_count": null,
      "id": "755d0896",
      "metadata": {
        "id": "755d0896"
      },
      "outputs": [],
      "source": [
        "X=df.drop(\"quality\",axis=1)\n",
        "y=df['quality']"
      ]
    },
    {
      "cell_type": "code",
      "execution_count": null,
      "id": "74bbbc84",
      "metadata": {
        "id": "74bbbc84"
      },
      "outputs": [],
      "source": [
        "y=df['quality']"
      ]
    },
    {
      "cell_type": "code",
      "execution_count": null,
      "id": "94345f61",
      "metadata": {
        "id": "94345f61"
      },
      "outputs": [],
      "source": [
        "from sklearn.model_selection import train_test_split,GridSearchCV"
      ]
    },
    {
      "cell_type": "code",
      "execution_count": null,
      "id": "c9348502",
      "metadata": {
        "id": "c9348502"
      },
      "outputs": [],
      "source": [
        "X_train,X_test,y_train,y_test=train_test_split(X,y,test_size=0.33,random_state=10)"
      ]
    },
    {
      "cell_type": "code",
      "execution_count": null,
      "id": "e0fa3bef",
      "metadata": {
        "id": "e0fa3bef"
      },
      "outputs": [],
      "source": [
        "'''from sklearn.preprocessing import StandardScaler\n",
        "from sklearn.preprocessing import StandardScaler\n",
        "sclr = StandardScaler()\n",
        "scr.fit()\n",
        "scr.transform()'''\n"
      ]
    },
    {
      "cell_type": "code",
      "execution_count": null,
      "id": "524d4bfd",
      "metadata": {
        "id": "524d4bfd"
      },
      "outputs": [],
      "source": [
        "from sklearn.tree import DecisionTreeClassifier\n",
        "model=DecisionTreeClassifier()"
      ]
    },
    {
      "cell_type": "code",
      "execution_count": null,
      "id": "0848587c",
      "metadata": {
        "id": "0848587c"
      },
      "outputs": [],
      "source": [
        "model.fit(X_train,y_train)"
      ]
    },
    {
      "cell_type": "code",
      "execution_count": null,
      "id": "c3e574bf",
      "metadata": {
        "id": "c3e574bf"
      },
      "outputs": [],
      "source": [
        "model.score(X_train,y_train)"
      ]
    },
    {
      "cell_type": "code",
      "execution_count": null,
      "id": "503511e0",
      "metadata": {
        "id": "503511e0"
      },
      "outputs": [],
      "source": [
        "from sklearn import tree\n",
        "import matplotlib.pyplot as plt\n",
        "fig=plt.figure(figsize=(25,15))\n",
        "tree.plot_tree(model,filled=True)"
      ]
    },
    {
      "cell_type": "code",
      "execution_count": null,
      "id": "70ee2949",
      "metadata": {
        "id": "70ee2949"
      },
      "outputs": [],
      "source": [
        "fig.savefig(\"decistion_tree_classifier.png\")"
      ]
    },
    {
      "cell_type": "code",
      "execution_count": null,
      "id": "b382c551",
      "metadata": {
        "id": "b382c551"
      },
      "outputs": [],
      "source": [
        "y_predict=model.predict(X_test)"
      ]
    },
    {
      "cell_type": "code",
      "execution_count": null,
      "id": "941817cf",
      "metadata": {
        "id": "941817cf"
      },
      "outputs": [],
      "source": [
        "from sklearn.metrics import accuracy_score"
      ]
    },
    {
      "cell_type": "code",
      "execution_count": null,
      "id": "a4f79680",
      "metadata": {
        "id": "a4f79680"
      },
      "outputs": [],
      "source": [
        "accuracy_score(y_test,y_predict)"
      ]
    },
    {
      "cell_type": "code",
      "execution_count": null,
      "id": "22ac9d15",
      "metadata": {
        "id": "22ac9d15"
      },
      "outputs": [],
      "source": [
        "grid_param = {\n",
        "    'criterion': ['gini', 'entropy'],\n",
        "    'max_depth' : range(2,10,1),\n",
        "    'min_samples_leaf' : range(1,8,1),\n",
        "    'min_samples_split': range(2,8,1),\n",
        "    'splitter' : ['best', 'random']\n",
        "    \n",
        "}"
      ]
    },
    {
      "cell_type": "code",
      "execution_count": null,
      "id": "c986875c",
      "metadata": {
        "id": "c986875c"
      },
      "outputs": [],
      "source": [
        "from sklearn.model_selection import GridSearchCV\n",
        "grid_searh=GridSearchCV(estimator=model,param_grid=grid_param,cv=3,verbose=1)"
      ]
    },
    {
      "cell_type": "code",
      "execution_count": null,
      "id": "51163fff",
      "metadata": {
        "id": "51163fff"
      },
      "outputs": [],
      "source": [
        "grid_searh.fit(X_train,y_train)"
      ]
    },
    {
      "cell_type": "code",
      "execution_count": null,
      "id": "3a735b84",
      "metadata": {
        "id": "3a735b84"
      },
      "outputs": [],
      "source": [
        "grid_searh.best_params_"
      ]
    },
    {
      "cell_type": "code",
      "execution_count": null,
      "id": "f5055ac7",
      "metadata": {
        "id": "f5055ac7"
      },
      "outputs": [],
      "source": [
        "model_with_best_params=DecisionTreeClassifier(criterion= 'gini',max_depth= 6,min_samples_leaf= 4,min_samples_split= 6,splitter='random')"
      ]
    },
    {
      "cell_type": "code",
      "execution_count": null,
      "id": "bf7adc13",
      "metadata": {
        "id": "bf7adc13"
      },
      "outputs": [],
      "source": [
        "model_with_best_params.fit(X_train,y_train)"
      ]
    },
    {
      "cell_type": "code",
      "execution_count": null,
      "id": "4603c083",
      "metadata": {
        "id": "4603c083"
      },
      "outputs": [],
      "source": [
        "from sklearn import tree\n",
        "import matplotlib.pyplot as plt\n",
        "fig=plt.figure(figsize=(25,15))\n",
        "tree.plot_tree(model_with_best_params,filled=True,fontsize=10)"
      ]
    },
    {
      "cell_type": "code",
      "execution_count": null,
      "id": "4e2c1351",
      "metadata": {
        "id": "4e2c1351"
      },
      "outputs": [],
      "source": [
        "y_prediction2=model_with_best_params.predict(X_test)"
      ]
    },
    {
      "cell_type": "code",
      "execution_count": null,
      "id": "893557a3",
      "metadata": {
        "id": "893557a3"
      },
      "outputs": [],
      "source": [
        "accuracy_score(y_test,y_prediction2)"
      ]
    },
    {
      "cell_type": "code",
      "execution_count": null,
      "id": "06507b8d",
      "metadata": {
        "id": "06507b8d"
      },
      "outputs": [],
      "source": [
        "#logistic regression, SVM ,  going forward(RF,XB,GB,AB)"
      ]
    },
    {
      "cell_type": "code",
      "execution_count": null,
      "id": "dde20890",
      "metadata": {
        "id": "dde20890"
      },
      "outputs": [],
      "source": [
        "#Implement the decision tree regressor\n",
        "dataset:https://archive.ics.uci.edu/ml/datasets/individual+household+electric+power+consumption\n",
        "        \n",
        "take_refrence_from_here:https://scikit-learn.org/stable/modules/generated/sklearn.tree.DecisionTreeRegressor.html#sklearn.tree.DecisionTreeRegressor"
      ]
    },
    {
      "cell_type": "code",
      "execution_count": null,
      "id": "dcc17418",
      "metadata": {
        "id": "dcc17418"
      },
      "outputs": [],
      "source": [
        "from sklearn.ensemble import RandomForestClassifier\n",
        "Rf_model=RandomForestClassifier()"
      ]
    },
    {
      "cell_type": "code",
      "execution_count": null,
      "id": "1369771b",
      "metadata": {
        "id": "1369771b"
      },
      "outputs": [],
      "source": [
        "Rf_model.fit(X_train,y_train)"
      ]
    },
    {
      "cell_type": "code",
      "execution_count": null,
      "id": "0b1ecfb9",
      "metadata": {
        "id": "0b1ecfb9"
      },
      "outputs": [],
      "source": [
        "y_pred_rf=Rf_model.predict(X_test)"
      ]
    },
    {
      "cell_type": "code",
      "execution_count": null,
      "id": "54ac1c68",
      "metadata": {
        "id": "54ac1c68"
      },
      "outputs": [],
      "source": [
        "accuracy_score(y_test,y_pred_rf)"
      ]
    },
    {
      "cell_type": "code",
      "execution_count": null,
      "id": "8990e767",
      "metadata": {
        "id": "8990e767"
      },
      "outputs": [],
      "source": [
        "# we are tuning three hyperparameters right now, we are passing the different values for both parameters\n",
        "grid_param = {\n",
        "    \"n_estimators\" : [90,100,115,130],\n",
        "    'criterion': ['gini', 'entropy'],\n",
        "    'max_depth' : range(2,20,1),\n",
        "    'min_samples_leaf' : range(1,10,1),\n",
        "    'min_samples_split': range(2,10,1),\n",
        "    'max_features' : ['auto','log2']\n",
        "}"
      ]
    },
    {
      "cell_type": "code",
      "execution_count": null,
      "id": "123f19b7",
      "metadata": {
        "id": "123f19b7"
      },
      "outputs": [],
      "source": [
        "from sklearn.model_selection import GridSearchCV\n",
        "grid_searh=GridSearchCV(estimator=Rf_model,param_grid=grid_param,cv=3,verbose=2,n_jobs=-1)"
      ]
    },
    {
      "cell_type": "code",
      "execution_count": null,
      "id": "26223afc",
      "metadata": {
        "id": "26223afc"
      },
      "outputs": [],
      "source": [
        "grid_searh.fit(X_train,y_train)"
      ]
    },
    {
      "cell_type": "code",
      "execution_count": null,
      "id": "ded316c4",
      "metadata": {
        "id": "ded316c4"
      },
      "outputs": [],
      "source": [
        "grid_searh.best_params_"
      ]
    },
    {
      "cell_type": "code",
      "execution_count": null,
      "id": "05aa1a3f",
      "metadata": {
        "id": "05aa1a3f"
      },
      "outputs": [],
      "source": [
        "Rf_model_with_best_params=RandomForestClassifier(criterion='gini',max_depth= 14,max_features= 'log2',min_samples_leaf= 1,min_samples_split= 2,n_estimators=115)"
      ]
    },
    {
      "cell_type": "code",
      "execution_count": null,
      "id": "27ee424f",
      "metadata": {
        "id": "27ee424f"
      },
      "outputs": [],
      "source": [
        "Rf_model_with_best_params.fit(X_train,y_train)"
      ]
    },
    {
      "cell_type": "code",
      "execution_count": null,
      "id": "e04d3ab6",
      "metadata": {
        "id": "e04d3ab6"
      },
      "outputs": [],
      "source": [
        "y_predict_rf_bp=Rf_model_with_best_params.predict(X_test)"
      ]
    },
    {
      "cell_type": "code",
      "execution_count": null,
      "id": "0b8e4db8",
      "metadata": {
        "id": "0b8e4db8"
      },
      "outputs": [],
      "source": [
        "accuracy_score(y_test,y_predict_rf_bp)"
      ]
    },
    {
      "cell_type": "code",
      "execution_count": null,
      "id": "67d6e94d",
      "metadata": {
        "id": "67d6e94d"
      },
      "outputs": [],
      "source": []
    },
    {
      "cell_type": "code",
      "execution_count": null,
      "id": "3f3264a3",
      "metadata": {
        "id": "3f3264a3"
      },
      "outputs": [],
      "source": [
        "from sklearn.svm import SVC\n",
        "from sklearn.ensemble import BaggingClassifier\n",
        "from sklearn.datasets import make_classification\n",
        "\n",
        "model_bagging_svc = BaggingClassifier(base_estimator=SVC(),n_estimators=50, random_state=0).fit(X_train,y_train)\n"
      ]
    },
    {
      "cell_type": "code",
      "execution_count": null,
      "id": "08dc403f",
      "metadata": {
        "id": "08dc403f"
      },
      "outputs": [],
      "source": [
        "y_predict_bagging=model_bagging_svc.predict(X_test)\n"
      ]
    },
    {
      "cell_type": "code",
      "execution_count": null,
      "id": "a47a2762",
      "metadata": {
        "id": "a47a2762"
      },
      "outputs": [],
      "source": [
        "accuracy_score(y_test,y_predict_bagging)"
      ]
    },
    {
      "cell_type": "code",
      "execution_count": null,
      "id": "ae604236",
      "metadata": {
        "id": "ae604236"
      },
      "outputs": [],
      "source": [
        "#use bagging classiifer and regressor, extra tree classifier and regressor, voting classifer and regressor and random forest classifier and regressor on top of House hold consumpltion data and cencus data\n",
        "\n",
        "data link: https://archive.ics.uci.edu/ml/datasets/individual+household+electric+power+consumption\n",
        "        https://archive.ics.uci.edu/ml/datasets/census+income\n",
        "    \n",
        "sklearn_link:https://scikit-learn.org/stable/modules/classes.html#module-sklearn.ensemble"
      ]
    },
    {
      "cell_type": "code",
      "source": [
        "!nvidia-smi"
      ],
      "metadata": {
        "id": "sBhrFwK_w-aQ"
      },
      "id": "sBhrFwK_w-aQ",
      "execution_count": null,
      "outputs": []
    },
    {
      "cell_type": "code",
      "source": [
        "import xgboost"
      ],
      "metadata": {
        "id": "SknHruhfxBCW"
      },
      "id": "SknHruhfxBCW",
      "execution_count": null,
      "outputs": []
    },
    {
      "cell_type": "code",
      "source": [
        "from sklearn.ensemble import GradientBoostingClassifier\n",
        "model_gbm=GradientBoostingClassifier()"
      ],
      "metadata": {
        "id": "dgHvuo_wxUTN"
      },
      "id": "dgHvuo_wxUTN",
      "execution_count": null,
      "outputs": []
    },
    {
      "cell_type": "code",
      "source": [
        "model_gbm.fit(X_train,y_train)"
      ],
      "metadata": {
        "id": "J9F0YxtlypF2"
      },
      "id": "J9F0YxtlypF2",
      "execution_count": null,
      "outputs": []
    },
    {
      "cell_type": "code",
      "source": [
        "y_pred_gbm=model_gbm.predict(X_test)"
      ],
      "metadata": {
        "id": "FylNZzvKyswJ"
      },
      "id": "FylNZzvKyswJ",
      "execution_count": null,
      "outputs": []
    },
    {
      "cell_type": "code",
      "source": [
        "from sklearn.model_selection import GridSearchCV\n",
        "from sklearn.metrics import accuracy_score\n",
        "#grid_searh=GridSearchCV(estimator=model,param_grid=grid_param,cv=3,verbose=1)"
      ],
      "metadata": {
        "id": "UGbjwzF1zERd"
      },
      "id": "UGbjwzF1zERd",
      "execution_count": null,
      "outputs": []
    },
    {
      "cell_type": "code",
      "source": [
        "accuracy_score(y_test,y_pred_gbm)"
      ],
      "metadata": {
        "id": "qKTWZaJuzSPl"
      },
      "id": "qKTWZaJuzSPl",
      "execution_count": null,
      "outputs": []
    },
    {
      "cell_type": "code",
      "source": [
        "grid_param = {\n",
        "    \"learning_rate\":[0.01,0.001,0.1,0.0001],\n",
        "    \"n_estimators\" : [90,100,115,130],\n",
        "    'criterion': ['gini', 'entropy'],\n",
        "    'max_depth' : range(2,20,1),\n",
        "    'min_samples_leaf' : range(1,10,1),\n",
        "    'min_samples_split': range(2,10,1),\n",
        "    'max_features' : ['auto','log2']\n",
        "}"
      ],
      "metadata": {
        "id": "UEJwAcKd1cI9"
      },
      "id": "UEJwAcKd1cI9",
      "execution_count": null,
      "outputs": []
    },
    {
      "cell_type": "code",
      "source": [
        "grid_searh=GridSearchCV(estimator=model_gbm,param_grid=grid_param,cv=5,verbose=2,n_jobs=-1)"
      ],
      "metadata": {
        "id": "MEN4ZDab1cLP"
      },
      "id": "MEN4ZDab1cLP",
      "execution_count": null,
      "outputs": []
    },
    {
      "cell_type": "code",
      "source": [
        "grid_searh.fit(X_train,y_train)"
      ],
      "metadata": {
        "colab": {
          "base_uri": "https://localhost:8080/"
        },
        "id": "5TFis7Sg1cOd",
        "outputId": "20342391-6433-4358-c519-caae3fc855b5"
      },
      "id": "5TFis7Sg1cOd",
      "execution_count": null,
      "outputs": [
        {
          "metadata": {
            "tags": null
          },
          "name": "stdout",
          "output_type": "stream",
          "text": [
            "Fitting 5 folds for each of 41472 candidates, totalling 207360 fits\n"
          ]
        }
      ]
    },
    {
      "cell_type": "code",
      "source": [],
      "metadata": {
        "id": "efQoJEZh1cQN"
      },
      "id": "efQoJEZh1cQN",
      "execution_count": 37,
      "outputs": []
    },
    {
      "cell_type": "code",
      "source": [
        "import xgboost\n",
        "model_xgb=xgboost.XGBClassifier()\n",
        "model_xgb.fit(X_train,y_train)\n",
        "y_pred_xgb=model_xgb.predict(X_test)"
      ],
      "metadata": {
        "id": "AVMH2vBDzfu0"
      },
      "id": "AVMH2vBDzfu0",
      "execution_count": 50,
      "outputs": []
    },
    {
      "cell_type": "code",
      "source": [
        "model_xgb.fit(X_train,y_train)"
      ],
      "metadata": {
        "colab": {
          "base_uri": "https://localhost:8080/"
        },
        "id": "PGMffERSz4_l",
        "outputId": "25fbaa92-327d-4b9b-b0a2-c799bfb311ab"
      },
      "id": "PGMffERSz4_l",
      "execution_count": 51,
      "outputs": [
        {
          "output_type": "execute_result",
          "data": {
            "text/plain": [
              "XGBClassifier(objective='multi:softprob')"
            ]
          },
          "metadata": {},
          "execution_count": 51
        }
      ]
    },
    {
      "cell_type": "code",
      "source": [
        "y_pred_xgb=model_xgb.predict(X_test)"
      ],
      "metadata": {
        "id": "-iwfKqtNz9-c"
      },
      "id": "-iwfKqtNz9-c",
      "execution_count": 52,
      "outputs": []
    },
    {
      "cell_type": "code",
      "source": [
        "accuracy_score(y_test,y_pred_xgb)"
      ],
      "metadata": {
        "colab": {
          "base_uri": "https://localhost:8080/"
        },
        "id": "Gv9XdqB-0D1M",
        "outputId": "55ee2be6-50e7-4258-c7cf-18c7842714ce"
      },
      "id": "Gv9XdqB-0D1M",
      "execution_count": 53,
      "outputs": [
        {
          "output_type": "execute_result",
          "data": {
            "text/plain": [
              "0.5590200445434298"
            ]
          },
          "metadata": {},
          "execution_count": 53
        }
      ]
    },
    {
      "cell_type": "code",
      "source": [
        "!pip install optuna"
      ],
      "metadata": {
        "id": "CRScBpGj0RyE",
        "colab": {
          "base_uri": "https://localhost:8080/"
        },
        "outputId": "a724d64c-08cb-450b-a838-f2dd248102f4"
      },
      "id": "CRScBpGj0RyE",
      "execution_count": 42,
      "outputs": [
        {
          "output_type": "stream",
          "name": "stdout",
          "text": [
            "Looking in indexes: https://pypi.org/simple, https://us-python.pkg.dev/colab-wheels/public/simple/\n",
            "Collecting optuna\n",
            "  Downloading optuna-3.0.3-py3-none-any.whl (348 kB)\n",
            "\u001b[K     |████████████████████████████████| 348 kB 27.4 MB/s \n",
            "\u001b[?25hRequirement already satisfied: numpy in /usr/local/lib/python3.7/dist-packages (from optuna) (1.21.6)\n",
            "Collecting colorlog\n",
            "  Downloading colorlog-6.7.0-py2.py3-none-any.whl (11 kB)\n",
            "Collecting cmaes>=0.8.2\n",
            "  Downloading cmaes-0.9.0-py3-none-any.whl (23 kB)\n",
            "Requirement already satisfied: packaging>=20.0 in /usr/local/lib/python3.7/dist-packages (from optuna) (21.3)\n",
            "Requirement already satisfied: scipy<1.9.0,>=1.7.0 in /usr/local/lib/python3.7/dist-packages (from optuna) (1.7.3)\n",
            "Collecting alembic>=1.5.0\n",
            "  Downloading alembic-1.8.1-py3-none-any.whl (209 kB)\n",
            "\u001b[K     |████████████████████████████████| 209 kB 64.9 MB/s \n",
            "\u001b[?25hRequirement already satisfied: sqlalchemy>=1.3.0 in /usr/local/lib/python3.7/dist-packages (from optuna) (1.4.43)\n",
            "Requirement already satisfied: importlib-metadata<5.0.0 in /usr/local/lib/python3.7/dist-packages (from optuna) (4.13.0)\n",
            "Collecting cliff\n",
            "  Downloading cliff-3.10.1-py3-none-any.whl (81 kB)\n",
            "\u001b[K     |████████████████████████████████| 81 kB 10.4 MB/s \n",
            "\u001b[?25hRequirement already satisfied: PyYAML in /usr/local/lib/python3.7/dist-packages (from optuna) (6.0)\n",
            "Requirement already satisfied: tqdm in /usr/local/lib/python3.7/dist-packages (from optuna) (4.64.1)\n",
            "Collecting Mako\n",
            "  Downloading Mako-1.2.4-py3-none-any.whl (78 kB)\n",
            "\u001b[K     |████████████████████████████████| 78 kB 8.5 MB/s \n",
            "\u001b[?25hRequirement already satisfied: importlib-resources in /usr/local/lib/python3.7/dist-packages (from alembic>=1.5.0->optuna) (5.10.0)\n",
            "Requirement already satisfied: typing-extensions>=3.6.4 in /usr/local/lib/python3.7/dist-packages (from importlib-metadata<5.0.0->optuna) (4.1.1)\n",
            "Requirement already satisfied: zipp>=0.5 in /usr/local/lib/python3.7/dist-packages (from importlib-metadata<5.0.0->optuna) (3.10.0)\n",
            "Requirement already satisfied: pyparsing!=3.0.5,>=2.0.2 in /usr/local/lib/python3.7/dist-packages (from packaging>=20.0->optuna) (3.0.9)\n",
            "Requirement already satisfied: greenlet!=0.4.17 in /usr/local/lib/python3.7/dist-packages (from sqlalchemy>=1.3.0->optuna) (2.0.1)\n",
            "Collecting pbr!=2.1.0,>=2.0.0\n",
            "  Downloading pbr-5.11.0-py2.py3-none-any.whl (112 kB)\n",
            "\u001b[K     |████████████████████████████████| 112 kB 70.7 MB/s \n",
            "\u001b[?25hCollecting stevedore>=2.0.1\n",
            "  Downloading stevedore-3.5.2-py3-none-any.whl (50 kB)\n",
            "\u001b[K     |████████████████████████████████| 50 kB 7.9 MB/s \n",
            "\u001b[?25hRequirement already satisfied: PrettyTable>=0.7.2 in /usr/local/lib/python3.7/dist-packages (from cliff->optuna) (3.5.0)\n",
            "Collecting cmd2>=1.0.0\n",
            "  Downloading cmd2-2.4.2-py3-none-any.whl (147 kB)\n",
            "\u001b[K     |████████████████████████████████| 147 kB 71.0 MB/s \n",
            "\u001b[?25hCollecting autopage>=0.4.0\n",
            "  Downloading autopage-0.5.1-py3-none-any.whl (29 kB)\n",
            "Collecting pyperclip>=1.6\n",
            "  Downloading pyperclip-1.8.2.tar.gz (20 kB)\n",
            "Requirement already satisfied: wcwidth>=0.1.7 in /usr/local/lib/python3.7/dist-packages (from cmd2>=1.0.0->cliff->optuna) (0.2.5)\n",
            "Requirement already satisfied: attrs>=16.3.0 in /usr/local/lib/python3.7/dist-packages (from cmd2>=1.0.0->cliff->optuna) (22.1.0)\n",
            "Requirement already satisfied: MarkupSafe>=0.9.2 in /usr/local/lib/python3.7/dist-packages (from Mako->alembic>=1.5.0->optuna) (2.0.1)\n",
            "Building wheels for collected packages: pyperclip\n",
            "  Building wheel for pyperclip (setup.py) ... \u001b[?25l\u001b[?25hdone\n",
            "  Created wheel for pyperclip: filename=pyperclip-1.8.2-py3-none-any.whl size=11137 sha256=e967f038343c40a4446f3a64f374f40af1697c7361367fb556c3a1a1914da63b\n",
            "  Stored in directory: /root/.cache/pip/wheels/9f/18/84/8f69f8b08169c7bae2dde6bd7daf0c19fca8c8e500ee620a28\n",
            "Successfully built pyperclip\n",
            "Installing collected packages: pyperclip, pbr, stevedore, Mako, cmd2, autopage, colorlog, cmaes, cliff, alembic, optuna\n",
            "Successfully installed Mako-1.2.4 alembic-1.8.1 autopage-0.5.1 cliff-3.10.1 cmaes-0.9.0 cmd2-2.4.2 colorlog-6.7.0 optuna-3.0.3 pbr-5.11.0 pyperclip-1.8.2 stevedore-3.5.2\n"
          ]
        }
      ]
    },
    {
      "cell_type": "markdown",
      "source": [
        "\n",
        "X=df.drop(\"quality\",axis=1)\n",
        "y=df['quality']\n",
        "```\n",
        "\n",
        "\n"
      ],
      "metadata": {
        "id": "RtaShaIK_HT1"
      },
      "id": "RtaShaIK_HT1"
    },
    {
      "cell_type": "code",
      "source": [
        "def objective_classification(trial,data=x,target=y) :\n",
        "    train_x , test_x , train_y , test_y= train_test_split(data , target , test_size = .20 ,random_state=10)\n",
        "    \n",
        "    param  = {\n",
        "        'tree_method' :'gpu_hist',\n",
        "        'verbosity' : 3,\n",
        "        'objective' : \"binary:logistics\" , \n",
        "        'booster' : trial.suggest_categorical('booster' , ['dart' , 'gbtree','gblinear']),\n",
        "        'lambda' : trial.suggest_float('lambda' , 1e-4 , 1),\n",
        "        'alpha' :trial.suggest_float('alpha' , 1e-4 , 1),\n",
        "        'subsample' : trial.suggest_float('subsample' , .1,.5),\n",
        "        'colsample_bytree' : trial.suggest_float('colsample_bytree' , .1 ,.5)\n",
        "        \n",
        "    }\n",
        "   \n",
        "    if param['booster'] in ['gbtree' , 'dart']:\n",
        "        param['gamma'] :trial.suggest_float('gamma' , 1e-3 , 4 )\n",
        "        param['eta'] : trial.suggest_float('eta' , .001 ,5 )\n",
        "        \n",
        "    xgb_classification = xgboost.XGBClassifier(**param)\n",
        "    xgb_classification.fit(train_x , train_y,eval_set  = [(test_x, test_y)])\n",
        "    pred = xgb_classification.predict(test_x)\n",
        "    accuracy  = xgb_classification.score(test_x , test_y)\n",
        "\n",
        "    \n",
        "    \n",
        "    return accuracy\n",
        "        "
      ],
      "metadata": {
        "id": "5LRWJuq64nuX"
      },
      "id": "5LRWJuq64nuX",
      "execution_count": null,
      "outputs": []
    },
    {
      "cell_type": "markdown",
      "source": [],
      "metadata": {
        "id": "4xt7q4bF_Cz7"
      },
      "id": "4xt7q4bF_Cz7"
    },
    {
      "cell_type": "code",
      "source": [
        "xgb_classification_oputuna = optuna.create_study(direction  = 'minimize')\n",
        "xgb_classification_oputuna.optimize(objective_classification , n_trials = 10 )"
      ],
      "metadata": {
        "id": "xyHXNlmg4qaQ"
      },
      "id": "xyHXNlmg4qaQ",
      "execution_count": null,
      "outputs": []
    },
    {
      "cell_type": "code",
      "source": [
        "xgb_classification_oputuna.best_trial"
      ],
      "metadata": {
        "id": "-hii0OEM4tuF"
      },
      "id": "-hii0OEM4tuF",
      "execution_count": null,
      "outputs": []
    },
    {
      "cell_type": "code",
      "source": [
        "param = xgb_classification_oputuna.best_trial.params"
      ],
      "metadata": {
        "id": "K2g13LD14vez"
      },
      "id": "K2g13LD14vez",
      "execution_count": null,
      "outputs": []
    },
    {
      "cell_type": "code",
      "source": [
        "xgb_final_clas = xgb.XGBClassifier(**param)\n",
        "xgb_final_clas.fit(train_x , train_y)"
      ],
      "metadata": {
        "id": "tmqiLrox4xkZ"
      },
      "id": "tmqiLrox4xkZ",
      "execution_count": null,
      "outputs": []
    }
  ],
  "metadata": {
    "kernelspec": {
      "display_name": "Python 3 (ipykernel)",
      "language": "python",
      "name": "python3"
    },
    "language_info": {
      "codemirror_mode": {
        "name": "ipython",
        "version": 3
      },
      "file_extension": ".py",
      "mimetype": "text/x-python",
      "name": "python",
      "nbconvert_exporter": "python",
      "pygments_lexer": "ipython3",
      "version": "3.9.7"
    },
    "colab": {
      "provenance": [],
      "include_colab_link": true
    },
    "accelerator": "GPU",
    "gpuClass": "standard"
  },
  "nbformat": 4,
  "nbformat_minor": 5
}